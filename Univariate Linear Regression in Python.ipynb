{
 "cells": [
  {
   "cell_type": "markdown",
   "metadata": {},
   "source": [
    "# Univariate Linear Regression in Python\n",
    "\n",
    "* From a set of data $(x_i, y_i)$ find a linear relationship between them.\n",
    "* We can express this linear relationship as $y = a*x + b + noise$\n",
    "* Noise can be represented some distribution as the uniform $U(a,b)$ or normal $\\mathcal{N}(\\mu,\\,\\sigma^{2})$."
   ]
  },
  {
   "cell_type": "markdown",
   "metadata": {},
   "source": [
    "# 1. Generating Data\n",
    "\n",
    "* Let's generate some data to work with. "
   ]
  },
  {
   "cell_type": "code",
   "execution_count": 1,
   "metadata": {},
   "outputs": [
    {
     "name": "stdout",
     "output_type": "stream",
     "text": [
      "x values\n",
      "[0.05252591 0.25593633 0.43022378 0.44044366 0.45771483 0.76664712\n",
      " 0.8658378  1.0160191  1.220832   1.98703664 2.38098961 2.4951307\n",
      " 2.52328295 2.55038407 3.09695156 3.64980249 3.82411247 3.85912952\n",
      " 4.31997495 4.42261565 4.80333558 4.92746751 5.43733323 5.50216454\n",
      " 6.07641009 6.20428269 6.31088796 6.60435784 6.64734576 6.82775142\n",
      " 6.86106051 6.95811046 7.5247378  7.54106131 8.10622875 8.19783903\n",
      " 8.5923026  8.73184044 8.76198549 8.94623048]\n",
      "\n",
      "\n",
      "y values:\n",
      "[ 2.22178375  0.90753156  2.87490296  0.20405276  1.56721488  1.07328428\n",
      "  0.8543049   2.68245952  4.38647944  3.90906762  5.41720589  4.69890396\n",
      "  3.27056449  3.86305612  4.69904434  6.70017053  8.52928395  6.50622509\n",
      "  5.99168452  5.27234272  5.62987503  8.45424351  9.88642882  9.04737746\n",
      "  9.75639696 10.10397002 11.64162016 10.90772795  9.71605703 10.34682127\n",
      " 11.56043981 10.70086605 12.21282881 12.06906892 14.49285642 15.82426091\n",
      " 16.77461645 15.71235115 15.39032546 14.48171222]\n"
     ]
    }
   ],
   "source": [
    "import numpy as np\n",
    "\n",
    "def get_data(m_samples, a, b):\n",
    "    \n",
    "    # Generate some noise: uniform distribution on interval [0,1]\n",
    "    random_noise = np.random.normal(0,1,m_samples) # \n",
    "\n",
    "    # Generate X input from uniform distribution in range [0, 10] \n",
    "    x_input =  np.random.uniform(0,10,m_samples)\n",
    "    x_input.sort()\n",
    "    \n",
    "    #y = a*x + b + noise (univariate linear regression model with noise)\n",
    "    y_input = a*x_input + b + random_noise\n",
    "    data_xy = x_input, y_input\n",
    "    \n",
    "    return data_xy\n",
    "\n",
    "\n",
    "data_xy = get_data(m_samples = 40, a=1.5, b=1)\n",
    "\n",
    "print('x values')\n",
    "print(data_xy[0])\n",
    "\n",
    "print('\\n\\ny values:')\n",
    "print(data_xy[1])"
   ]
  },
  {
   "cell_type": "markdown",
   "metadata": {},
   "source": [
    "* **How this data looks like: **"
   ]
  },
  {
   "cell_type": "code",
   "execution_count": 7,
   "metadata": {},
   "outputs": [
    {
     "data": {
      "image/png": "[encoded data removed]",
      "text/plain": [
       "<matplotlib.figure.Figure at 0x11c8c67f0>"
      ]
     },
     "metadata": {},
     "output_type": "display_data"
    }
   ],
   "source": [
    "%matplotlib inline\n",
    "import matplotlib.pyplot as plt\n",
    "plt.style.use('seaborn-whitegrid')\n",
    "\n",
    "x_input, y_input = data_xy\n",
    "plt.plot(x_input, y_input,  'o')\n",
    "plt.xlabel('X VALUES')\n",
    "\n",
    "plt.ylabel('Y VALUES')\n",
    "plt.show()"
   ]
  },
  {
   "cell_type": "markdown",
   "metadata": {},
   "source": [
    "---"
   ]
  },
  {
   "cell_type": "markdown",
   "metadata": {},
   "source": [
    "# 2. Build Model\n",
    "\n",
    "* Linear regression represented as a function: f(x) = a*x + b\n",
    "* Function $f(x)$ contains $x$ as variable and $a, b$ as parameters (to be optimized) \n"
   ]
  },
  {
   "cell_type": "code",
   "execution_count": 8,
   "metadata": {},
   "outputs": [],
   "source": [
    "def linear_regression_model(a, b):\n",
    "    #All we need to represent a linear regression model (y = a*x + b)\n",
    "    model = {}\n",
    "    model['a'] = a\n",
    "    model['b'] = b  \n",
    "    return model\n",
    "\n",
    "def f(X, model):\n",
    "    # linear regression function\n",
    "    a = model['a']\n",
    "    b = model['b']\n",
    "    return a*X + b"
   ]
  },
  {
   "cell_type": "markdown",
   "metadata": {},
   "source": [
    "* **Testing model and visualization:**"
   ]
  },
  {
   "cell_type": "code",
   "execution_count": 9,
   "metadata": {},
   "outputs": [
    {
     "name": "stdout",
     "output_type": "stream",
     "text": [
      "(x: 0.200000,y: 0.220000)\n"
     ]
    },
    {
     "data": {
      "image/png": "[encoded data removed]",
      "text/plain": [
       "<matplotlib.figure.Figure at 0x11ccf6160>"
      ]
     },
     "metadata": {},
     "output_type": "display_data"
    }
   ],
   "source": [
    "def test_model():\n",
    "    # Check if all is working\n",
    "    model = linear_regression_model(a=0.1, b=0.2)\n",
    "    x = 0.2\n",
    "    y = f(x, model)\n",
    "    print('(x: %f,y: %f)'%(x,y))\n",
    "    \n",
    "def print_model(model):\n",
    "    # print model which has 'a' and 'b' random parameters (not optimized yet)\n",
    "    x1, x2 = 0, 10\n",
    "    y1, y2 = y = f(x1, model), f(x2, model)\n",
    "    x_input, y_input = data_xy\n",
    "\n",
    "    plt.plot(x_input, y_input, 'o')\n",
    "    plt.plot([x1, x2], [y1, y2])\n",
    "    plt.xlabel('x values')\n",
    "    plt.ylabel('y values')\n",
    "    plt.show()\n",
    "    None\n",
    "    \n",
    "model = linear_regression_model(a=0.1, b=2.2)   \n",
    "test_model()\n",
    "print_model(model)"
   ]
  },
  {
   "cell_type": "markdown",
   "metadata": {},
   "source": [
    "---"
   ]
  },
  {
   "cell_type": "markdown",
   "metadata": {},
   "source": [
    "# 3. Define the loss function\n",
    "\n",
    "* $Loss = (1/2m) * \\sum(f(x) - y)^2 $ "
   ]
  },
  {
   "cell_type": "code",
   "execution_count": 10,
   "metadata": {},
   "outputs": [
    {
     "name": "stdout",
     "output_type": "stream",
     "text": [
      "loss: 41.21\n"
     ]
    }
   ],
   "source": [
    "def loss(data, model):\n",
    "    x_input, y_input = data_xy\n",
    "    m = len(x_input)\n",
    "    \n",
    "    y_pred = [f(x, model) for x in x_input] # y_pred --> f(x)\n",
    "    return sum((y_pred - y_input)**2)/(2*m) # Loss\n",
    "    \n",
    "def test_loss():\n",
    "    model = linear_regression_model(a=0.0, b=0.0)\n",
    "    \n",
    "    l = loss(data_xy, model)\n",
    "    print('loss:', round(l,2))\n",
    "    None\n",
    "    \n",
    "test_loss()"
   ]
  },
  {
   "cell_type": "markdown",
   "metadata": {},
   "source": [
    "---"
   ]
  },
  {
   "cell_type": "markdown",
   "metadata": {},
   "source": [
    "# 4. Update params using Gradient Descent"
   ]
  },
  {
   "cell_type": "code",
   "execution_count": 19,
   "metadata": {},
   "outputs": [
    {
     "name": "stdout",
     "output_type": "stream",
     "text": [
      "i: 0 ite: loss: 21.139\n",
      "i: 5 ite: loss: 1.358\n",
      "final loss:  0.732\n"
     ]
    }
   ],
   "source": [
    "def get_hyper_params():\n",
    "    # alpha: update rate param\n",
    "    hyper_p = {}\n",
    "    hyper_p['alpha'] = 0.01\n",
    "\n",
    "    return hyper_p\n",
    "\n",
    "def optimise_by_gradient_descent(hyper_p, model, data_xy, n_ite = 30):\n",
    "    # iterate 'n_ite' times and optimise using gradient descent\n",
    "\n",
    "    x_input, y_input = data_xy\n",
    "    m = len(x_input)\n",
    "    alpha = hyper_p['alpha']\n",
    "    \n",
    "    loss_i = []  #save loss at time i\n",
    "    for i in range(n_ite):  \n",
    "        \n",
    "        y_pred = [f(x, model) for x in x_input] # f(x)\n",
    "        ypred_minus_y =  (y_pred - y_input) \n",
    "\n",
    "        dloss_dm = sum (ypred_minus_y * x_input) / m  # derivate loss w.r.t 'a'\n",
    "        dloss_db = sum (ypred_minus_y ) / m           # derivate loss w.r.t 'b'\n",
    "\n",
    "        model['a'] = model['a'] - (alpha * dloss_dm)  #update 'a' param\n",
    "        model['b'] = model['b'] - (alpha * dloss_db)  #update 'b' param      \n",
    "        \n",
    "        print_step = 5\n",
    "        if i%print_step ==0 : # Every 'print_step' print loss\n",
    "            print('i:', i, 'ite: ',end = '')\n",
    "            print('loss:',round(loss(data_xy,model),3))\n",
    "            \n",
    "        loss_i.append(loss(data_xy,model))\n",
    "    \n",
    "    print('final loss: ', round(loss(data_xy,model),3))\n",
    "    return model, loss_i\n",
    "    \n",
    "\n",
    "hyper_p = get_hyper_params()\n",
    "model = linear_regression_model(a=0.0, b=0.0)\n",
    "model, loss_i = optimise_by_gradient_descent(hyper_p, model, data_xy, n_ite = 10)   "
   ]
  },
  {
   "cell_type": "markdown",
   "metadata": {},
   "source": [
    "---"
   ]
  },
  {
   "cell_type": "markdown",
   "metadata": {},
   "source": [
    "# 5. Print model after optimisation"
   ]
  },
  {
   "cell_type": "code",
   "execution_count": 20,
   "metadata": {},
   "outputs": [
    {
     "data": {
      "image/png": "[encoded data removed]",
      "text/plain": [
       "<matplotlib.figure.Figure at 0x11ce22a58>"
      ]
     },
     "metadata": {},
     "output_type": "display_data"
    }
   ],
   "source": [
    "print_model(model)"
   ]
  },
  {
   "cell_type": "markdown",
   "metadata": {},
   "source": [
    "# 5. Print loss with time i"
   ]
  },
  {
   "cell_type": "code",
   "execution_count": 21,
   "metadata": {},
   "outputs": [
    {
     "data": {
      "image/png": "[encoded data removed]",
      "text/plain": [
       "<matplotlib.figure.Figure at 0x11cde4748>"
      ]
     },
     "metadata": {},
     "output_type": "display_data"
    }
   ],
   "source": [
    "def print_loss(loss_i):\n",
    "    x = list(range(len(loss_i)))\n",
    "    plt.plot(x, loss_i)\n",
    "    plt.ylabel('time i')\n",
    "    plt.ylabel('loss value at time i')\n",
    "    plt.show()\n",
    "    None\n",
    " \n",
    "print_loss(loss_i)"
   ]
  },
  {
   "cell_type": "markdown",
   "metadata": {},
   "source": [
    "---"
   ]
  }
 ],
 "metadata": {
  "kernelspec": {
   "display_name": "Python 3",
   "language": "python",
   "name": "python3"
  },
  "language_info": {
   "codemirror_mode": {
    "name": "ipython",
    "version": 3
   },
   "file_extension": ".py",
   "mimetype": "text/x-python",
   "name": "python",
   "nbconvert_exporter": "python",
   "pygments_lexer": "ipython3",
   "version": "3.6.4"
  }
 },
 "nbformat": 4,
 "nbformat_minor": 2
}
