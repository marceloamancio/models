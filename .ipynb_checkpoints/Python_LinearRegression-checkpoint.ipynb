{
 "cells": [
  {
   "cell_type": "markdown",
   "metadata": {},
   "source": [
    "# Univariate Linear Regression in Python\n",
    "\n",
    "* From a set of data $(x_i, y_i)$ find a linear relationship between them.\n",
    "* We can express this linear relationship as $y = a*x + b + noise$\n",
    "* Noise can be represented some distribution as the uniform $U(a,b)$ or normal $\\mathcal{N}(\\mu,\\,\\sigma^{2})$."
   ]
  },
  {
   "cell_type": "markdown",
   "metadata": {},
   "source": [
    "# 1. Generating Data\n",
    "\n",
    "* Let's generate some data to work with. "
   ]
  },
  {
   "cell_type": "code",
   "execution_count": 5,
   "metadata": {},
   "outputs": [
    {
     "name": "stdout",
     "output_type": "stream",
     "text": [
      "x values\n",
      "[0.21914204 0.23431192 0.29218633 0.48242233 0.51619228 0.58725744\n",
      " 1.08252941 1.10300083 1.44786485 1.66275767 1.99039107 2.23921355\n",
      " 2.50638347 2.55583878 2.7949948  2.82319391 2.86019866 2.92668817\n",
      " 3.01406283 3.30055737 3.43962741 3.90348926 4.68270112 4.86982228\n",
      " 4.99283504 6.06158948 6.34675317 6.4141925  6.48173033 6.87899045\n",
      " 7.50073373 7.61250786 7.61557266 7.62923874 7.7334978  7.84685313\n",
      " 7.94034933 8.16221305 8.31508124 8.9783917 ]\n",
      "\n",
      "\n",
      "y values:\n",
      "[ 0.40136761  0.81792895  1.75058179  1.15995543  1.65203539  3.0543547\n",
      "  2.17272008  1.88040156  2.94360614  3.62479167  5.0683343   4.04354664\n",
      "  5.73191688  5.49073567  5.89294892  3.2471181   5.20276274  6.70576032\n",
      "  5.0459307   4.95312667  6.51265958  6.50480083  8.59873648  7.75384324\n",
      "  8.01627378  8.82849886 10.68369055  9.00834428 10.03747413 10.11668174\n",
      " 12.51613696 12.88859906 11.32381736 11.23380816 14.1142963  11.50049525\n",
      " 13.68054298 12.5632402  13.95650098 15.16193536]\n"
     ]
    }
   ],
   "source": [
    "import numpy as np\n",
    "\n",
    "def get_data(m_samples, a, b):\n",
    "    \n",
    "    # Generate some noise: uniform distribution on interval [0,1]\n",
    "    random_noise = np.random.normal(0,1,m_samples) # \n",
    "\n",
    "    # Generate X input from uniform distribution in range [0, 10] \n",
    "    x_input =  np.random.uniform(0,10,m_samples)\n",
    "    x_input.sort()\n",
    "    \n",
    "    #y = a*x + b + noise (univariate linear regression model with noise)\n",
    "    y_input = a*x_input + b + random_noise\n",
    "    data_xy = x_input, y_input\n",
    "    \n",
    "    return data_xy\n",
    "\n",
    "\n",
    "data_xy = get_data(m_samples = 40, a=1.5, b=1)\n",
    "\n",
    "print('x values')\n",
    "print(data_xy[0])\n",
    "\n",
    "print('\\n\\ny values:')\n",
    "print(data_xy[1])"
   ]
  },
  {
   "cell_type": "markdown",
   "metadata": {},
   "source": [
    "* **How this data looks like: **"
   ]
  },
  {
   "cell_type": "code",
   "execution_count": 6,
   "metadata": {},
   "outputs": [
    {
     "data": {
      "image/png": "[encoded data removed]",
      "text/plain": [
       "<matplotlib.figure.Figure at 0x106cfa1d0>"
      ]
     },
     "metadata": {},
     "output_type": "display_data"
    }
   ],
   "source": [
    "%matplotlib inline\n",
    "import matplotlib.pyplot as plt\n",
    "plt.style.use('seaborn-whitegrid')\n",
    "\n",
    "x_input, y_input = data_xy\n",
    "plt.plot(x_input, y_input,  'o')\n",
    "plt.xlabel('X VALUES')\n",
    "\n",
    "plt.ylabel('Y VALUES')\n",
    "plt.show()"
   ]
  },
  {
   "cell_type": "markdown",
   "metadata": {},
   "source": [
    "---"
   ]
  },
  {
   "cell_type": "markdown",
   "metadata": {},
   "source": [
    "# 2. Build Model\n",
    "\n",
    "* Linear regression represented as a function: f(x) = a*x + b\n",
    "* Function $f(x)$ contains $x$ as variable and $a, b$ as parameters (to be optimized) \n"
   ]
  },
  {
   "cell_type": "code",
   "execution_count": 7,
   "metadata": {},
   "outputs": [],
   "source": [
    "def linear_regression_model(a, b):\n",
    "    #All we need to represent a linear regression model (y = a*x + b)\n",
    "    model = {}\n",
    "    model['a'] = a\n",
    "    model['b'] = b  \n",
    "    return model\n",
    "\n",
    "def f(X, model):\n",
    "    # linear regression function\n",
    "    a = model['a']\n",
    "    b = model['b']\n",
    "    return a*X + b"
   ]
  },
  {
   "cell_type": "markdown",
   "metadata": {},
   "source": [
    "* **Testing model and visualization:**"
   ]
  },
  {
   "cell_type": "code",
   "execution_count": 8,
   "metadata": {},
   "outputs": [
    {
     "name": "stdout",
     "output_type": "stream",
     "text": [
      "(x: 0.200000,y: 0.220000)\n"
     ]
    },
    {
     "data": {
      "image/png": "[encoded data removed]",
      "text/plain": [
       "<matplotlib.figure.Figure at 0x114971ba8>"
      ]
     },
     "metadata": {},
     "output_type": "display_data"
    }
   ],
   "source": [
    "def test_model():\n",
    "    # Check if all is working\n",
    "    model = linear_regression_model(a=0.1, b=0.2)\n",
    "    x = 0.2\n",
    "    y = f(x, model)\n",
    "    print('(x: %f,y: %f)'%(x,y))\n",
    "    \n",
    "def print_model(model):\n",
    "    # print model which has 'a' and 'b' random parameters (not optimized yet)\n",
    "    x1, x2 = 0, 10\n",
    "    y1, y2 = y = f(x1, model), f(x2, model)\n",
    "    x_input, y_input = data_xy\n",
    "\n",
    "    plt.plot(x_input, y_input, 'o')\n",
    "    plt.plot([x1, x2], [y1, y2])\n",
    "    plt.xlabel('x values')\n",
    "    plt.ylabel('y values')\n",
    "    plt.show()\n",
    "    None\n",
    "    \n",
    "model = linear_regression_model(a=0.1, b=2.2)   \n",
    "test_model()\n",
    "print_model(model)"
   ]
  },
  {
   "cell_type": "markdown",
   "metadata": {},
   "source": [
    "---"
   ]
  },
  {
   "cell_type": "markdown",
   "metadata": {},
   "source": [
    "# 3. Define the loss function\n",
    "\n",
    "* $Loss = (1/2m) * \\sum(f(x) - y)^2 $ "
   ]
  },
  {
   "cell_type": "code",
   "execution_count": 9,
   "metadata": {},
   "outputs": [
    {
     "name": "stdout",
     "output_type": "stream",
     "text": [
      "loss: 34.47\n"
     ]
    }
   ],
   "source": [
    "def loss(data_xy, model):\n",
    "    x_input, y_input = data_xy\n",
    "    m = len(x_input)\n",
    "    \n",
    "    y_pred = [f(x, model) for x in x_input] # y_pred --> f(x)\n",
    "    return sum((y_pred - y_input)**2)/(2*m) # Loss\n",
    "    \n",
    "def test_loss():\n",
    "    model = linear_regression_model(a=0.0, b=0.0)\n",
    "    \n",
    "    l = loss(data_xy, model)\n",
    "    print('loss:', round(l,2))\n",
    "    None\n",
    "    \n",
    "test_loss()"
   ]
  },
  {
   "cell_type": "markdown",
   "metadata": {},
   "source": [
    "---"
   ]
  },
  {
   "cell_type": "markdown",
   "metadata": {},
   "source": [
    "# 4. Update params using Gradient Descent"
   ]
  },
  {
   "cell_type": "code",
   "execution_count": 10,
   "metadata": {},
   "outputs": [
    {
     "name": "stdout",
     "output_type": "stream",
     "text": [
      "i: 0 ite: loss: 18.979\n",
      "i: 5 ite: loss: 1.315\n",
      "final loss:  0.5\n"
     ]
    }
   ],
   "source": [
    "def get_hyper_params():\n",
    "    # alpha: update rate param\n",
    "    hyper_p = {}\n",
    "    hyper_p['alpha'] = 0.01\n",
    "\n",
    "    return hyper_p\n",
    "\n",
    "def optimise_by_gradient_descent(hyper_p, model, data_xy, n_ite = 30):\n",
    "    # iterate 'n_ite' times and optimise using gradient descent\n",
    "\n",
    "    x_input, y_input = data_xy\n",
    "    m = len(x_input)\n",
    "    alpha = hyper_p['alpha']\n",
    "    \n",
    "    loss_i = []  #save loss at time i\n",
    "    for i in range(n_ite):  \n",
    "        \n",
    "        y_pred = [f(x, model) for x in x_input] # f(x)\n",
    "        ypred_minus_y =  (y_pred - y_input) \n",
    "\n",
    "        dloss_dm = sum (ypred_minus_y * x_input) / m  # derivate loss w.r.t 'a'\n",
    "        dloss_db = sum (ypred_minus_y ) / m           # derivate loss w.r.t 'b'\n",
    "\n",
    "        model['a'] = model['a'] - (alpha * dloss_dm)  #update 'a' param\n",
    "        model['b'] = model['b'] - (alpha * dloss_db)  #update 'b' param      \n",
    "        \n",
    "        print_step = 5\n",
    "        if i%print_step ==0 : # Every 'print_step' print loss\n",
    "            print('i:', i, 'ite: ',end = '')\n",
    "            print('loss:',round(loss(data_xy,model),3))\n",
    "            \n",
    "        loss_i.append(loss(data_xy,model))\n",
    "    \n",
    "    print('final loss: ', round(loss(data_xy,model),3))\n",
    "    return model, loss_i\n",
    "    \n",
    "\n",
    "hyper_p = get_hyper_params()\n",
    "model = linear_regression_model(a=0.0, b=0.0)\n",
    "model, loss_i = optimise_by_gradient_descent(hyper_p, model, data_xy, n_ite = 10)   "
   ]
  },
  {
   "cell_type": "markdown",
   "metadata": {},
   "source": [
    "---"
   ]
  },
  {
   "cell_type": "markdown",
   "metadata": {},
   "source": [
    "# 5. Print model after optimisation"
   ]
  },
  {
   "cell_type": "code",
   "execution_count": 11,
   "metadata": {},
   "outputs": [
    {
     "data": {
      "image/png": "[encoded data removed]",
      "text/plain": [
       "<matplotlib.figure.Figure at 0x114d421d0>"
      ]
     },
     "metadata": {},
     "output_type": "display_data"
    }
   ],
   "source": [
    "print_model(model)"
   ]
  },
  {
   "cell_type": "markdown",
   "metadata": {},
   "source": [
    "# 5. Print loss with time i"
   ]
  },
  {
   "cell_type": "code",
   "execution_count": 12,
   "metadata": {},
   "outputs": [
    {
     "data": {
      "image/png": "[encoded data removed]",
      "text/plain": [
       "<matplotlib.figure.Figure at 0x1149eed30>"
      ]
     },
     "metadata": {},
     "output_type": "display_data"
    }
   ],
   "source": [
    "def print_loss(loss_i):\n",
    "    x = list(range(len(loss_i)))\n",
    "    plt.plot(x, loss_i)\n",
    "    plt.ylabel('time i')\n",
    "    plt.ylabel('loss value at time i')\n",
    "    plt.show()\n",
    "    None\n",
    " \n",
    "print_loss(loss_i)"
   ]
  },
  {
   "cell_type": "markdown",
   "metadata": {},
   "source": [
    "---"
   ]
  }
 ],
 "metadata": {
  "kernelspec": {
   "display_name": "Python 3",
   "language": "python",
   "name": "python3"
  },
  "language_info": {
   "codemirror_mode": {
    "name": "ipython",
    "version": 3
   },
   "file_extension": ".py",
   "mimetype": "text/x-python",
   "name": "python",
   "nbconvert_exporter": "python",
   "pygments_lexer": "ipython3",
   "version": "3.6.4"
  }
 },
 "nbformat": 4,
 "nbformat_minor": 2
}
